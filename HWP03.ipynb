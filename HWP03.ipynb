{
 "cells": [
  {
   "cell_type": "markdown",
   "metadata": {},
   "source": [
    "## HW P03 - Applying Logistic Regression\n",
    "\n",
    "In this assignment, you will apply the logistic regression classifier that you have implemented. Assume that a lending agency is interested in creating a predictive model to generate predictions about whether or not a loan applicant will be approved, based on certain pieces of personal information. \n",
    "\n",
    "After implementing your logistic regression classifier, place this notebook in the same directory as your `LogisticRegression.py` script, and then run the following cell."
   ]
  },
  {
   "cell_type": "code",
   "execution_count": 31,
   "metadata": {},
   "outputs": [],
   "source": [
    "import numpy as np\n",
    "import pandas as pd\n",
    "import matplotlib.pyplot as plt\n",
    "from LogisticRegression import LogisticRegression"
   ]
  },
  {
   "cell_type": "markdown",
   "metadata": {},
   "source": [
    "The data for this assignment is stored in the file `loan_data.text`. Place that file in the same directory as this notebook, and then execute the following cell, which loads the data into a pandas dataframe. A description of the columns in that dataframe is as follows:\n",
    "\n",
    "* **`age`**: The age of the applicant.\n",
    "* **`credit`**: The applicant's credit score. \n",
    "* **`debt`**: The amount of debt the applicant currently has, in thousands of dollars. \n",
    "* **`savings`**: The amount the applicant currently has saved, in thousands of dollars. \n",
    "* **`result`**: The result of the loan application. This column contains our labels. "
   ]
  },
  {
   "cell_type": "code",
   "execution_count": 30,
   "metadata": {},
   "outputs": [
    {
     "data": {
      "text/html": [
       "<div>\n",
       "<style>\n",
       "    .dataframe thead tr:only-child th {\n",
       "        text-align: right;\n",
       "    }\n",
       "\n",
       "    .dataframe thead th {\n",
       "        text-align: left;\n",
       "    }\n",
       "\n",
       "    .dataframe tbody tr th {\n",
       "        vertical-align: top;\n",
       "    }\n",
       "</style>\n",
       "<table border=\"1\" class=\"dataframe\">\n",
       "  <thead>\n",
       "    <tr style=\"text-align: right;\">\n",
       "      <th></th>\n",
       "      <th>age</th>\n",
       "      <th>credit</th>\n",
       "      <th>debt</th>\n",
       "      <th>savings</th>\n",
       "      <th>result</th>\n",
       "    </tr>\n",
       "  </thead>\n",
       "  <tbody>\n",
       "    <tr>\n",
       "      <th>0</th>\n",
       "      <td>42.0</td>\n",
       "      <td>670.0</td>\n",
       "      <td>11.243</td>\n",
       "      <td>4.712</td>\n",
       "      <td>Denied</td>\n",
       "    </tr>\n",
       "    <tr>\n",
       "      <th>1</th>\n",
       "      <td>53.0</td>\n",
       "      <td>670.0</td>\n",
       "      <td>11.979</td>\n",
       "      <td>4.457</td>\n",
       "      <td>Denied</td>\n",
       "    </tr>\n",
       "    <tr>\n",
       "      <th>2</th>\n",
       "      <td>33.0</td>\n",
       "      <td>723.0</td>\n",
       "      <td>11.023</td>\n",
       "      <td>13.291</td>\n",
       "      <td>Denied</td>\n",
       "    </tr>\n",
       "    <tr>\n",
       "      <th>3</th>\n",
       "      <td>25.0</td>\n",
       "      <td>669.0</td>\n",
       "      <td>11.903</td>\n",
       "      <td>7.195</td>\n",
       "      <td>Loan Approved</td>\n",
       "    </tr>\n",
       "    <tr>\n",
       "      <th>4</th>\n",
       "      <td>29.0</td>\n",
       "      <td>735.0</td>\n",
       "      <td>6.989</td>\n",
       "      <td>7.919</td>\n",
       "      <td>Loan Approved</td>\n",
       "    </tr>\n",
       "    <tr>\n",
       "      <th>5</th>\n",
       "      <td>26.0</td>\n",
       "      <td>642.0</td>\n",
       "      <td>5.868</td>\n",
       "      <td>12.064</td>\n",
       "      <td>Loan Approved</td>\n",
       "    </tr>\n",
       "    <tr>\n",
       "      <th>6</th>\n",
       "      <td>50.0</td>\n",
       "      <td>621.0</td>\n",
       "      <td>6.616</td>\n",
       "      <td>3.656</td>\n",
       "      <td>Loan Approved</td>\n",
       "    </tr>\n",
       "    <tr>\n",
       "      <th>7</th>\n",
       "      <td>36.0</td>\n",
       "      <td>790.0</td>\n",
       "      <td>3.058</td>\n",
       "      <td>3.292</td>\n",
       "      <td>Loan Approved</td>\n",
       "    </tr>\n",
       "    <tr>\n",
       "      <th>8</th>\n",
       "      <td>54.0</td>\n",
       "      <td>698.0</td>\n",
       "      <td>10.025</td>\n",
       "      <td>7.221</td>\n",
       "      <td>Loan Approved</td>\n",
       "    </tr>\n",
       "    <tr>\n",
       "      <th>9</th>\n",
       "      <td>30.0</td>\n",
       "      <td>758.0</td>\n",
       "      <td>7.541</td>\n",
       "      <td>12.228</td>\n",
       "      <td>Loan Approved</td>\n",
       "    </tr>\n",
       "  </tbody>\n",
       "</table>\n",
       "</div>"
      ],
      "text/plain": [
       "    age  credit    debt  savings         result\n",
       "0  42.0   670.0  11.243    4.712         Denied\n",
       "1  53.0   670.0  11.979    4.457         Denied\n",
       "2  33.0   723.0  11.023   13.291         Denied\n",
       "3  25.0   669.0  11.903    7.195  Loan Approved\n",
       "4  29.0   735.0   6.989    7.919  Loan Approved\n",
       "5  26.0   642.0   5.868   12.064  Loan Approved\n",
       "6  50.0   621.0   6.616    3.656  Loan Approved\n",
       "7  36.0   790.0   3.058    3.292  Loan Approved\n",
       "8  54.0   698.0  10.025    7.221  Loan Approved\n",
       "9  30.0   758.0   7.541   12.228  Loan Approved"
      ]
     },
     "execution_count": 30,
     "metadata": {},
     "output_type": "execute_result"
    }
   ],
   "source": [
    "loan_df = pd.read_table('loan_data.txt', sep='\\t')\n",
    "loan_df.head(n=10)"
   ]
  },
  {
   "cell_type": "markdown",
   "metadata": {},
   "source": [
    "In the cell below, use `iloc` to create two dataframes, `X` and `y`, which contain the features and labels of the data, respectively. Print the shapes of these two dataframes. "
   ]
  },
  {
   "cell_type": "code",
   "execution_count": 65,
   "metadata": {},
   "outputs": [
    {
     "name": "stdout",
     "output_type": "stream",
     "text": [
      "<class 'pandas.core.frame.DataFrame'>\n",
      "<class 'pandas.core.series.Series'>\n"
     ]
    }
   ],
   "source": [
    "# Create dataframes X and y\n",
    "X = loan_df.iloc[:,:4]\n",
    "# Print shapes of X and y\n",
    "y = loan_df.iloc[:,4]\n",
    "print(type(X))\n",
    "print(type(y))"
   ]
  },
  {
   "cell_type": "markdown",
   "metadata": {},
   "source": [
    "The code below splits the dataset into training and test sets. "
   ]
  },
  {
   "cell_type": "code",
   "execution_count": 59,
   "metadata": {},
   "outputs": [],
   "source": [
    "np.random.seed(1)\n",
    "n = len(y)\n",
    "index = np.random.choice(range(n), n, replace=False)\n",
    "X_shuffled = X.iloc[index,:]\n",
    "y_shuffled = y.iloc[index]\n",
    "\n",
    "k = int(0.7*n)\n",
    "\n",
    "X_train = X_shuffled.iloc[:k,:]\n",
    "X_test = X_shuffled.iloc[k:,:]\n",
    "y_train = y_shuffled.iloc[:k]\n",
    "y_test = y_shuffled.iloc[k:]"
   ]
  },
  {
   "cell_type": "markdown",
   "metadata": {},
   "source": [
    "In the cell below, create a logistic regression model using the training data. Store the model in `mod`. Generate a summary of the model."
   ]
  },
  {
   "cell_type": "code",
   "execution_count": 60,
   "metadata": {},
   "outputs": [
    {
     "name": "stdout",
     "output_type": "stream",
     "text": [
      "+----------------------------+\n",
      "|Logistic Regression Summary |\n",
      "+----------------------------+\n",
      "Number of training observations: 939\n",
      "Coefficient Estimates: [-3.06323961  0.02486594  0.00595246 -0.3684602   0.2309801 ]\n",
      "Log-Likelihood: -424.382098293\n",
      "Accuracy: 0.784877529286\n",
      "\n",
      "Class 0: Denied\n",
      "Class 1: Loan Approved\n",
      "\n"
     ]
    }
   ],
   "source": [
    "# Train a logistic regression model.\n",
    "mod = LogisticRegression(X_train,y_train)\n",
    "# Generate a summary of the model.\n",
    "mod.summary()"
   ]
  },
  {
   "cell_type": "markdown",
   "metadata": {},
   "source": [
    "Use the `score()` method of your model to print the training accuracy and testing accuracy for your model. Include text in your output to indicate which score is which. "
   ]
  },
  {
   "cell_type": "code",
   "execution_count": 68,
   "metadata": {
    "scrolled": true
   },
   "outputs": [
    {
     "name": "stdout",
     "output_type": "stream",
     "text": [
      "0.784877529286\n",
      "0.759305210918\n"
     ]
    }
   ],
   "source": [
    "# Print training accuray.\n",
    "print(mod.accuracy)\n",
    "# Print testing accuray.\n",
    "print(mod.score(X_test,y_test))"
   ]
  },
  {
   "cell_type": "markdown",
   "metadata": {},
   "source": [
    "Consider an applicant with the following characteristics: `age=35, credit=620, debt=10, savings=8`. Use your model to generate a prediction as to whether or not this individual will be approved for a loan. Print the predicted outcome 'Denied' or 'Loan Appoved', as well as the estimated probability that the loan will be approved. "
   ]
  },
  {
   "cell_type": "code",
   "execution_count": 80,
   "metadata": {
    "scrolled": true
   },
   "outputs": [
    {
     "name": "stdout",
     "output_type": "stream",
     "text": [
      "['Denied']\n",
      "[ 0.41601186]\n"
     ]
    }
   ],
   "source": [
    "# Print predicted outcome.\n",
    "print(mod.predict([[35,620,10,8]]))\n",
    "# Print estimated probability of approval.\n",
    "print(mod.predict_proba([[35,620,10,8]]))"
   ]
  },
  {
   "cell_type": "markdown",
   "metadata": {},
   "source": [
    "Use your model to generate a confusion matrix based on the testing data. "
   ]
  },
  {
   "cell_type": "code",
   "execution_count": 82,
   "metadata": {
    "scrolled": false
   },
   "outputs": [
    {
     "name": "stdout",
     "output_type": "stream",
     "text": [
      "        Pred_0  Pred_1\n",
      "True_0     233     118\n",
      "True_1      84     504\n",
      "\n"
     ]
    }
   ],
   "source": [
    "# Display confusion matrix for testing data.\n",
    "mod.confusion_matrix(X_test,y_test)"
   ]
  },
  {
   "cell_type": "markdown",
   "metadata": {},
   "source": [
    "The cell below explores the effect that the threshold `t` has on precision and recall. Complete the code in this cell by replacing the blank lines with the appropriate expressions. "
   ]
  },
  {
   "cell_type": "code",
   "execution_count": 92,
   "metadata": {
    "scrolled": true
   },
   "outputs": [
    {
     "data": {
      "image/png": "[encoded data removed]",
      "text/plain": [
       "<matplotlib.figure.Figure at 0x106e26048>"
      ]
     },
     "metadata": {},
     "output_type": "display_data"
    }
   ],
   "source": [
    "p_list = []\n",
    "r_list = []\n",
    "\n",
    "for i in range(0,100):\n",
    "    y_pred = mod.predict(X_test, t = i/100)\n",
    "    \n",
    "    TP = np.sum((y_test == mod.classes[1]) & (y_pred == mod.classes[1]))\n",
    "    FP = np.sum((y_test == mod.classes[1]) & (y_pred == mod.classes[0]))\n",
    "    FN = np.sum((y_test == mod.classes[0]) & (y_pred == mod.classes[0]))\n",
    "    \n",
    "    precision = TP/(TP+FN)\n",
    "    recall = TP/(TP+FP)\n",
    "    p_list.append(precision)\n",
    "    r_list.append(recall)\n",
    "plt.close()\n",
    "plt.plot(r_list, p_list)\n",
    "plt.xlim([0,1])\n",
    "plt.ylim([0.5,1])\n",
    "plt.xlabel('Recall')\n",
    "plt.ylabel('Precision')\n",
    "plt.show()    "
   ]
  },
  {
   "cell_type": "markdown",
   "metadata": {},
   "source": [
    "When the model has high recall, then it predicts \"Loan Approved\" for nearly everyone for whom the loan should be approved. However, the model will also likely predict approval for many people that should otherwise be denied. \n",
    "\n",
    "When the model has high precision, then nearly everyone who is predicted to be approved, should be approved. However, there will likely be several people who should be approved, but were turned down by the model. \n",
    "\n",
    "Do you believe that the lending agency would prefer to see higher precision or higher recall in this model? Provide your answer, with a **brief** explanation in the markdown cell below. "
   ]
  },
  {
   "cell_type": "markdown",
   "metadata": {},
   "source": [
    "Higher precision is better because the company needs to make sure that the loan will make profit, more specifically it will not generate a loss for the company"
   ]
  },
  {
   "cell_type": "code",
   "execution_count": null,
   "metadata": {
    "collapsed": true
   },
   "outputs": [],
   "source": []
  }
 ],
 "metadata": {
  "kernelspec": {
   "display_name": "Python 3",
   "language": "python",
   "name": "python3"
  },
  "language_info": {
   "codemirror_mode": {
    "name": "ipython",
    "version": 3
   },
   "file_extension": ".py",
   "mimetype": "text/x-python",
   "name": "python",
   "nbconvert_exporter": "python",
   "pygments_lexer": "ipython3",
   "version": "3.6.3"
  }
 },
 "nbformat": 4,
 "nbformat_minor": 2
}
